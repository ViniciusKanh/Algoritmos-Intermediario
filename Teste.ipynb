{
  "nbformat": 4,
  "nbformat_minor": 0,
  "metadata": {
    "colab": {
      "provenance": [],
      "authorship_tag": "ABX9TyMBHMub0cz3hn8qCpWrSdNj",
      "include_colab_link": true
    },
    "kernelspec": {
      "name": "python3",
      "display_name": "Python 3"
    },
    "language_info": {
      "name": "python"
    }
  },
  "cells": [
    {
      "cell_type": "markdown",
      "metadata": {
        "id": "view-in-github",
        "colab_type": "text"
      },
      "source": [
        "<a href=\"https://colab.research.google.com/github/ViniciusKanh/C-Plus-Plus/blob/main/Teste.ipynb\" target=\"_parent\"><img src=\"https://colab.research.google.com/assets/colab-badge.svg\" alt=\"Open In Colab\"/></a>"
      ]
    },
    {
      "cell_type": "markdown",
      "source": [
        "## Questão 1: Cálculo do valor da variável"
      ],
      "metadata": {
        "id": "3ZVAGvUe1zbL"
      }
    },
    {
      "cell_type": "code",
      "execution_count": 1,
      "metadata": {
        "colab": {
          "base_uri": "https://localhost:8080/"
        },
        "id": "p-s8st_01mF3",
        "outputId": "f3cda7e2-2355-4f34-bba7-c3913e837576"
      },
      "outputs": [
        {
          "output_type": "stream",
          "name": "stdout",
          "text": [
            "Valor final de SOMA: 91\n"
          ]
        }
      ],
      "source": [
        "INDICE = 13\n",
        "SOMA = 0\n",
        "K = 0\n",
        "\n",
        "while K < INDICE:\n",
        "    K += 1\n",
        "    SOMA += K\n",
        "\n",
        "print(\"Valor final de SOMA:\", SOMA)\n"
      ]
    },
    {
      "cell_type": "markdown",
      "source": [
        "## Questão 2: Verificação de número na sequência de Fibonacci"
      ],
      "metadata": {
        "id": "Ec6Hh3uO16L8"
      }
    },
    {
      "cell_type": "code",
      "source": [
        "def fibonacci_check(n):\n",
        "    a, b = 0, 1\n",
        "    while b < n:\n",
        "        a, b = b, a + b\n",
        "    return b == n or n == 0\n",
        "\n",
        "num = int(input(\"Digite um número para verificar se pertence à sequência de Fibonacci: \"))\n",
        "\n",
        "if fibonacci_check(num):\n",
        "    print(f\"O número {num} pertence à sequência de Fibonacci.\")\n",
        "else:\n",
        "    print(f\"O número {num} não pertence à sequência de Fibonacci.\")\n"
      ],
      "metadata": {
        "colab": {
          "base_uri": "https://localhost:8080/"
        },
        "id": "bhTnk39D17tL",
        "outputId": "5e0f6585-99e7-48e7-da48-bec004ba702b"
      },
      "execution_count": 4,
      "outputs": [
        {
          "output_type": "stream",
          "name": "stdout",
          "text": [
            "Digite um número para verificar se pertence à sequência de Fibonacci: 21\n",
            "O número 21 pertence à sequência de Fibonacci.\n"
          ]
        }
      ]
    },
    {
      "cell_type": "markdown",
      "source": [
        "## Questão 3: Análise de faturamento diário"
      ],
      "metadata": {
        "id": "8dmMkNaI2PT-"
      }
    },
    {
      "cell_type": "code",
      "source": [
        "import json\n",
        "\n",
        "# Exemplo de faturamento em JSON\n",
        "dados_faturamento = '''\n",
        "{\n",
        "    \"faturamento_diario\": [0, 2200.50, 1500.00, 1800.25, 0, 2100.75, 0, 2500.90, 1900.50, 2000.00, 0, 2400.60]\n",
        "}\n",
        "'''\n",
        "\n",
        "data = json.loads(dados_faturamento)\n",
        "faturamento = [valor for valor in data[\"faturamento_diario\"] if valor > 0]\n",
        "\n",
        "menor_faturamento = min(faturamento)\n",
        "maior_faturamento = max(faturamento)\n",
        "media_mensal = sum(faturamento) / len(faturamento)\n",
        "dias_acima_media = sum(1 for valor in faturamento if valor > media_mensal)\n",
        "\n",
        "print(f\"Menor faturamento: R${menor_faturamento:.2f}\")\n",
        "print(f\"Maior faturamento: R${maior_faturamento:.2f}\")\n",
        "print(f\"Número de dias acima da média mensal: {dias_acima_media}\")\n"
      ],
      "metadata": {
        "colab": {
          "base_uri": "https://localhost:8080/"
        },
        "id": "Vt9ZZTPy2QP4",
        "outputId": "1386abef-7cbc-4aa9-9e1d-9b748ac89b0e"
      },
      "execution_count": 5,
      "outputs": [
        {
          "output_type": "stream",
          "name": "stdout",
          "text": [
            "Menor faturamento: R$1500.00\n",
            "Maior faturamento: R$2500.90\n",
            "Número de dias acima da média mensal: 4\n"
          ]
        }
      ]
    },
    {
      "cell_type": "markdown",
      "source": [
        "## Questão 4: Percentual de faturamento por estado"
      ],
      "metadata": {
        "id": "Z0Axbw_S2aKJ"
      }
    },
    {
      "cell_type": "code",
      "source": [
        "faturamento_estados = {\n",
        "    \"SP\": 67836.43,\n",
        "    \"RJ\": 36678.66,\n",
        "    \"MG\": 29229.88,\n",
        "    \"ES\": 27165.48,\n",
        "    \"Outros\": 19849.53\n",
        "}\n",
        "\n",
        "total_faturamento = sum(faturamento_estados.values())\n",
        "\n",
        "for estado, valor in faturamento_estados.items():\n",
        "    percentual = (valor / total_faturamento) * 100\n",
        "    print(f\"{estado}: {percentual:.2f}%\")\n"
      ],
      "metadata": {
        "colab": {
          "base_uri": "https://localhost:8080/"
        },
        "id": "UZQ1CDSb2bFV",
        "outputId": "49b68c3a-a894-4f5e-b8eb-b9b65bca5075"
      },
      "execution_count": 6,
      "outputs": [
        {
          "output_type": "stream",
          "name": "stdout",
          "text": [
            "SP: 37.53%\n",
            "RJ: 20.29%\n",
            "MG: 16.17%\n",
            "ES: 15.03%\n",
            "Outros: 10.98%\n"
          ]
        }
      ]
    },
    {
      "cell_type": "markdown",
      "source": [
        "## Questão 5: Inversão de string sem usar funções prontas\n"
      ],
      "metadata": {
        "id": "IqJ6YwLW2gfo"
      }
    },
    {
      "cell_type": "code",
      "source": [
        "def inverter_string(s):\n",
        "    inversa = \"\"\n",
        "    for i in range(len(s) - 1, -1, -1):\n",
        "        inversa += s[i]\n",
        "    return inversa\n",
        "\n",
        "entrada = input(\"Digite uma string para inverter: \")\n",
        "print(\"String invertida:\", inverter_string(entrada))\n"
      ],
      "metadata": {
        "colab": {
          "base_uri": "https://localhost:8080/"
        },
        "id": "CePr8pQl2hs3",
        "outputId": "f0808fdc-1ccc-4c12-bf77-7ac17a6f4aa1"
      },
      "execution_count": 7,
      "outputs": [
        {
          "output_type": "stream",
          "name": "stdout",
          "text": [
            "Digite uma string para inverter: vinicius\n",
            "String invertida: suiciniv\n"
          ]
        }
      ]
    }
  ]
}